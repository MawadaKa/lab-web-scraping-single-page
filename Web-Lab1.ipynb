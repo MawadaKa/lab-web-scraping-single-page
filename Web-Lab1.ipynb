{
 "cells": [
  {
   "cell_type": "code",
   "execution_count": null,
   "id": "366a0083-3950-452b-bfd4-d34aca313bd4",
   "metadata": {},
   "outputs": [],
   "source": [
    "from bs4 import BeautifulSoup\n",
    "import requests\n",
    "import pandas as pd"
   ]
  },
  {
   "cell_type": "code",
   "execution_count": null,
   "id": "94f67e4b-04c1-4b37-8d6d-21b82c680d43",
   "metadata": {},
   "outputs": [],
   "source": [
    "url = \"https://www.popvortex.com/music/charts/top-100-songs.php\"\n",
    "response = requests.get(url)\n",
    "response.status_code"
   ]
  },
  {
   "cell_type": "code",
   "execution_count": null,
   "id": "6f744ecc-98a3-4a64-89d3-8fd985959623",
   "metadata": {},
   "outputs": [],
   "source": [
    "soup = BeautifulSoup(response.content, \"html.parser\")\n",
    "soup"
   ]
  },
  {
   "cell_type": "code",
   "execution_count": null,
   "id": "ef7ce447-ff0c-4ad5-bdeb-9708d477d159",
   "metadata": {},
   "outputs": [],
   "source": [
    "list = soup.select(\"body > div.container > div:nth-child(4) > div.col-xs-12.col-md-8 > div.chart-wrapper> div.feed-item.music-chart > div.chart-content > p.title-artist\")\n",
    "len(list)"
   ]
  },
  {
   "cell_type": "code",
   "execution_count": null,
   "id": "7a19689d-cf02-4cef-9eaf-491f1fc1b26c",
   "metadata": {},
   "outputs": [],
   "source": [
    "list\n",
    "songs = []\n",
    "for tag in list:\n",
    "    song = {\n",
    "        'title' : tag.find(\"cite\").text,\n",
    "        'artist' : tag.find(\"em\").text\n",
    "    }\n",
    "    songs.append(song)\n",
    "songs"
   ]
  },
  {
   "cell_type": "markdown",
   "id": "72f8bb64-85ef-4a9b-8857-5c503930a4ff",
   "metadata": {},
   "source": [
    "Lab | Web Scraping Multiple Pages"
   ]
  },
  {
   "cell_type": "code",
   "execution_count": null,
   "id": "e4bfdb7e-0838-4d65-877c-5df57b636439",
   "metadata": {},
   "outputs": [],
   "source": [
    "url = \"https://www.billboard.com/charts/hot-100/\"\n",
    "response = requests.get(url)\n",
    "response.status_code"
   ]
  },
  {
   "cell_type": "code",
   "execution_count": null,
   "id": "cee3e49e-ef7a-43f4-b8d5-4fb90ebbc43c",
   "metadata": {},
   "outputs": [],
   "source": [
    "soup = BeautifulSoup(response.content, \"html.parser\")\n",
    "soup"
   ]
  },
  {
   "cell_type": "code",
   "execution_count": null,
   "id": "a41d0474-3958-405e-9513-d230d8037620",
   "metadata": {},
   "outputs": [],
   "source": [
    "suggest = soup.select(\"#post-1479786 > div.pmc-paywall > div > div > div > div.chart-results-list.\\/\\/.lrv-u-padding-t-150.lrv-u-padding-t-050\\@mobile-max > div.o-chart-results-list-row-container\")\n",
    "print(suggest[99])"
   ]
  },
  {
   "cell_type": "code",
   "execution_count": null,
   "id": "8cbd8069-7c74-47b3-9314-abfbd7dc5c3f",
   "metadata": {},
   "outputs": [],
   "source": [
    "suggest[99].select(\"ul > li:nth-child(4) > ul > li:nth-child(1) > h3\")"
   ]
  },
  {
   "cell_type": "code",
   "execution_count": null,
   "id": "dc230052-a4c2-4d83-8a18-f259bfae048a",
   "metadata": {},
   "outputs": [],
   "source": [
    "songs1 = []\n",
    "for tag in suggest:\n",
    "    song = {\n",
    "        'title' : tag.select(\"ul > li:nth-child(4) > ul > li:nth-child(1) > h3\")[0].text.strip(),\n",
    "        'artist' : tag.select(\"ul > li:nth-child(4) > ul > li:nth-child(1) > span\")[0].text.strip()\n",
    "    }\n",
    "    songs1.append(song)\n",
    "print(songs1)"
   ]
  },
  {
   "cell_type": "markdown",
   "id": "2151b4a8-80d3-4816-a1df-c6d61490eba2",
   "metadata": {},
   "source": [
    "Apply the same logic to other \"groups\" of songs: the best songs from a decade or from a country / culture / language / genre."
   ]
  },
  {
   "cell_type": "code",
   "execution_count": null,
   "id": "23df75a7-4e91-49c1-a9fc-b5c6646ecbac",
   "metadata": {},
   "outputs": [],
   "source": [
    "url = \"https://countrycountdownusa.com/top-30/\"\n",
    "response = requests.get(url)\n",
    "response.status_code"
   ]
  },
  {
   "cell_type": "code",
   "execution_count": null,
   "id": "13cad144-15c2-4acd-933e-9e102330125b",
   "metadata": {},
   "outputs": [],
   "source": [
    "soup = BeautifulSoup(response.content, \"html.parser\")\n",
    "soup"
   ]
  },
  {
   "cell_type": "code",
   "execution_count": null,
   "id": "8c070a9b-f42b-403f-b033-f8fbb230d473",
   "metadata": {},
   "outputs": [],
   "source": [
    "genre = soup.select(\"#post-main-61 > div > p\")\n",
    "genre = genre[2:-2]\n",
    "print(len(genre))\n",
    "print(genre)"
   ]
  },
  {
   "cell_type": "code",
   "execution_count": null,
   "id": "0c779a54-2b37-41ba-95fe-dadf4b0ee98c",
   "metadata": {},
   "outputs": [],
   "source": [
    "bygenre = []\n",
    "for tag in genre:\n",
    "    song = {\n",
    "        'title+artist' : tag.text.strip()\n",
    "    }\n",
    "    bygenre.append(song)\n",
    "print(bygenre)"
   ]
  },
  {
   "cell_type": "code",
   "execution_count": null,
   "id": "2e7d4441-233d-42ab-86e7-4d7aeb0b9549",
   "metadata": {},
   "outputs": [],
   "source": []
  },
  {
   "cell_type": "code",
   "execution_count": null,
   "id": "cca4641c-1b81-47c9-a2ce-5cc66061b679",
   "metadata": {},
   "outputs": [],
   "source": [
    "import random\n",
    "# Convert lists to DataFrames\n",
    "df_popvortex = pd.DataFrame(songs)\n",
    "df_billboard = pd.DataFrame(songs1)\n",
    "#df_genre = pd.DataFrame(bygenre) I decided not to include it because it doesn't seperate title from artist\n",
    "\n",
    "# Combine the DataFrames\n",
    "hot_songs = pd.concat([df_popvortex, df_billboard], ignore_index=True)\n",
    "hot_songs"
   ]
  },
  {
   "cell_type": "code",
   "execution_count": null,
   "id": "e8cd97b4-3af6-4de9-8dcf-afcba3ecf7b3",
   "metadata": {},
   "outputs": [],
   "source": [
    "# User input (replace with actual user input)\n",
    "user_input_song = input(\"Enter a Song Title\")\n",
    "\n",
    "# Check if the input song exists in the DataFrame\n",
    "if user_input_song in hot_songs[\"title\"].values:\n",
    "    recommendations = hot_songs[hot_songs[\"title\"] != user_input_song]\n",
    "    # Randomly select a recommendation\n",
    "    random_recommendation = recommendations.sample(n=1)\n",
    "    recommended_song = random_recommendation[\"title\"].values[0]\n",
    "    recommended_artist = random_recommendation[\"artist\"].values[0]\n",
    "    print(f\"Recommended Song: {recommended_song} by {recommended_artist}\")\n",
    "else:\n",
    "    print(\"No recommendation for the input song at this time.\")\n"
   ]
  },
  {
   "cell_type": "markdown",
   "id": "da804b29-6d55-4803-a8a8-e5b39938d707",
   "metadata": {},
   "source": [
    "Lab | API wrappers - Create your collection of songs & audio features"
   ]
  },
  {
   "cell_type": "code",
   "execution_count": null,
   "id": "7a5028a6-2be0-4584-9b86-d45f70de7760",
   "metadata": {},
   "outputs": [],
   "source": [
    "import spotipy\n",
    "from spotipy.oauth2 import SpotifyClientCredentials"
   ]
  },
  {
   "cell_type": "code",
   "execution_count": null,
   "id": "156fbfcd-ed38-481b-8cde-f718d9a52762",
   "metadata": {},
   "outputs": [],
   "source": [
    "secrets_file = open(\"secrets.txt\",\"r\")\n",
    "string = secrets_file.read()\n",
    "string.split('\\n')\n",
    "secrets_dict={}\n",
    "for line in string.split('\\n'):\n",
    "    if len(line) > 0:\n",
    "        print(line.split(':'))\n",
    "        secrets_dict[line.split(':')[0]]=line.split(':')[1].strip()\n",
    "secrets_dict"
   ]
  },
  {
   "cell_type": "code",
   "execution_count": null,
   "id": "a174d8e3-4082-4c86-9a24-06ba33ba3b7a",
   "metadata": {},
   "outputs": [],
   "source": [
    "sp = spotipy.Spotify(auth_manager=SpotifyClientCredentials(client_id=secrets_dict['clientid'],\n",
    "                                                           client_secret=secrets_dict['clientsecret']))"
   ]
  },
  {
   "cell_type": "code",
   "execution_count": null,
   "id": "37006415-3f27-408b-8916-de088af1bdee",
   "metadata": {},
   "outputs": [],
   "source": [
    "playlist = sp.user_playlist_tracks(\"spotify\", \"1hMzceeWw7QiI6vaBkcEJO\")\n",
    "playlist"
   ]
  },
  {
   "cell_type": "code",
   "execution_count": null,
   "id": "261b7038-f6e0-46cf-aa4a-f27c8645fb9a",
   "metadata": {},
   "outputs": [],
   "source": [
    "playlist[\"total\"]"
   ]
  },
  {
   "cell_type": "code",
   "execution_count": null,
   "id": "d11d3113-34b2-4833-a537-c56c27caa2c6",
   "metadata": {},
   "outputs": [],
   "source": [
    "playlist['next']"
   ]
  },
  {
   "cell_type": "code",
   "execution_count": null,
   "id": "5e02352f-afd9-4213-9e14-22f6a1fabe4c",
   "metadata": {},
   "outputs": [],
   "source": [
    "from random import randint\n",
    "from time import sleep\n",
    "\n",
    "def get_playlist_tracks(playlist_id):\n",
    "    results = sp.user_playlist_tracks(\"spotify\",playlist_id)\n",
    "    tracks = results['items']\n",
    "    while results['next']!=None:\n",
    "        results = sp.next(results)\n",
    "        tracks = tracks + results['items']\n",
    "        sleep(randint(1,3000)/1000) # respectful nap\n",
    "    return tracks"
   ]
  },
  {
   "cell_type": "code",
   "execution_count": null,
   "id": "046b4b2f-4646-4adf-bf34-93b69f0eb2cb",
   "metadata": {},
   "outputs": [],
   "source": [
    "all_tracks = get_playlist_tracks(\"1hMzceeWw7QiI6vaBkcEJO\")\n",
    "len(all_tracks)"
   ]
  },
  {
   "cell_type": "code",
   "execution_count": null,
   "id": "bf6c29c8-3427-408d-ac68-e91fe9bf6dff",
   "metadata": {},
   "outputs": [],
   "source": [
    "import pandas as pd\n",
    "from pandas import json_normalize\n",
    "tracks2 = json_normalize(all_tracks)\n",
    "tracks2.head()"
   ]
  },
  {
   "cell_type": "code",
   "execution_count": null,
   "id": "ddbadb6b-2e81-496d-9bff-fd006ca30ca3",
   "metadata": {},
   "outputs": [],
   "source": [
    "artists_df2 = pd.DataFrame(columns=['href', 'id', 'name', 'type', 'uri', 'external_urls.spotify','song_id', 'song_name', 'popularity' ])\n",
    "for i in tracks2.index:\n",
    "    artists_for_song = json_normalize(tracks2.iloc[i]['track.artists'])\n",
    "    artists_for_song['song_id']    = tracks2.iloc[i]['track.id']         # we want to keep song_id, it is the sae for all artists\n",
    "    artists_for_song['song_name']  = tracks2.iloc[i]['track.name']       # we want to keep song_name, it is the sae for all artists\n",
    "    artists_for_song['popularity'] = tracks2.iloc[i]['track.popularity'] # same for popularity   \n",
    "    artists_df2 = pd.concat([artists_df2, artists_for_song], axis=0)"
   ]
  },
  {
   "cell_type": "code",
   "execution_count": null,
   "id": "5725bcff-301d-43a7-b724-cd7f2677c752",
   "metadata": {},
   "outputs": [],
   "source": [
    "df_final2 = artists_df2[['song_name', 'name', 'song_id', 'popularity']].reset_index(drop=True)\n",
    "df_final2"
   ]
  },
  {
   "cell_type": "code",
   "execution_count": null,
   "id": "f6366c0a-4365-4de6-b976-99a2642df87b",
   "metadata": {},
   "outputs": [],
   "source": [
    "sp.audio_features('1hMzceeWw7QiI6vaBkcEJO')"
   ]
  },
  {
   "cell_type": "code",
   "execution_count": null,
   "id": "24da0c96-8096-49cf-b0f1-7d8ac88d60f5",
   "metadata": {},
   "outputs": [],
   "source": [
    "def get_audio_features_from_playlist(playlist_id):\n",
    "    # Get the list of track URIs from the playlist\n",
    "    playlist_tracks = sp.playlist_tracks(playlist_id)\n",
    "    track_uris = [track['track']['uri'] for track in playlist_tracks['items']]\n",
    "\n",
    "    # Get audio features for all tracks\n",
    "    audio_features = sp.audio_features(track_uris)\n",
    "\n",
    "    return audio_features"
   ]
  },
  {
   "cell_type": "code",
   "execution_count": null,
   "id": "8a66a986-6170-4ece-83e7-2ed185d1bc72",
   "metadata": {},
   "outputs": [],
   "source": [
    "#playlist_id = '1hMzceeWw7QiI6vaBkcEJO'\n",
    "#audio_features_list = get_audio_features_from_playlist(playlist_id)"
   ]
  },
  {
   "cell_type": "code",
   "execution_count": null,
   "id": "68ed5d4a-98d3-4601-b8e1-b85d6669ff09",
   "metadata": {},
   "outputs": [],
   "source": [
    "chunks = [(i, i+100) for i in range(0, len(df_final2), 100)]\n",
    "chunks\n",
    "audio_features_list = []\n",
    "for chunk in chunks:\n",
    "    id_list100 = df_final2['song_id'][chunk[0]:chunk[1]]\n",
    "    audio_features_list = audio_features_list + sp.audio_features(id_list100)\n",
    "    sleep(randint(1,3000)/1000)\n",
    "len(audio_features_list)"
   ]
  },
  {
   "cell_type": "code",
   "execution_count": null,
   "id": "75f262af-b73e-4f90-b5d4-4dc492214b66",
   "metadata": {},
   "outputs": [],
   "source": [
    "audio_features_df = json_normalize(audio_features_list)\n",
    "audio_features_df.drop_duplicates(inplace=True)"
   ]
  },
  {
   "cell_type": "code",
   "execution_count": null,
   "id": "5367c49f-89b7-4021-a7eb-9141c7e181f7",
   "metadata": {},
   "outputs": [],
   "source": [
    "df_w_audio_ft = pd.merge(left=df_final2,\n",
    "                        right=audio_features_df,\n",
    "                        how='inner',\n",
    "                        left_on='song_id',\n",
    "                        right_on='id')\n",
    "df_w_audio_ft"
   ]
  },
  {
   "cell_type": "code",
   "execution_count": null,
   "id": "88820ceb-c831-4c98-9042-4b0139b440f7",
   "metadata": {},
   "outputs": [],
   "source": []
  }
 ],
 "metadata": {
  "kernelspec": {
   "display_name": "Python 3 (ipykernel)",
   "language": "python",
   "name": "python3"
  },
  "language_info": {
   "codemirror_mode": {
    "name": "ipython",
    "version": 3
   },
   "file_extension": ".py",
   "mimetype": "text/x-python",
   "name": "python",
   "nbconvert_exporter": "python",
   "pygments_lexer": "ipython3",
   "version": "3.11.7"
  }
 },
 "nbformat": 4,
 "nbformat_minor": 5
}
