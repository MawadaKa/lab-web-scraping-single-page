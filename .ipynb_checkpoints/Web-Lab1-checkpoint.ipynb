{
 "cells": [
  {
   "cell_type": "code",
   "execution_count": null,
   "id": "366a0083-3950-452b-bfd4-d34aca313bd4",
   "metadata": {},
   "outputs": [],
   "source": [
    "from bs4 import BeautifulSoup\n",
    "import requests\n",
    "import pandas as pd"
   ]
  },
  {
   "cell_type": "code",
   "execution_count": null,
   "id": "94f67e4b-04c1-4b37-8d6d-21b82c680d43",
   "metadata": {},
   "outputs": [],
   "source": [
    "url = \"https://www.popvortex.com/music/charts/top-100-songs.php\"\n",
    "response = requests.get(url)"
   ]
  },
  {
   "cell_type": "code",
   "execution_count": null,
   "id": "828513c1-781f-40c7-b5ba-9a6b44a22875",
   "metadata": {},
   "outputs": [],
   "source": [
    "response.status_code"
   ]
  },
  {
   "cell_type": "code",
   "execution_count": null,
   "id": "6f744ecc-98a3-4a64-89d3-8fd985959623",
   "metadata": {},
   "outputs": [],
   "source": [
    "soup = BeautifulSoup(response.content, \"html.parser\")"
   ]
  },
  {
   "cell_type": "code",
   "execution_count": null,
   "id": "ef1ab75a-c34a-4a66-96f8-e1251aff2461",
   "metadata": {},
   "outputs": [],
   "source": [
    "soup"
   ]
  },
  {
   "cell_type": "code",
   "execution_count": null,
   "id": "ef7ce447-ff0c-4ad5-bdeb-9708d477d159",
   "metadata": {},
   "outputs": [],
   "source": [
    "list = soup.select(\"body > div.container > div:nth-child(4) > div.col-xs-12.col-md-8 > div.chart-wrapper> div.feed-item.music-chart > div.chart-content > p.title-artist\")"
   ]
  },
  {
   "cell_type": "code",
   "execution_count": null,
   "id": "c9b21d65-bc2e-4126-9396-2c4e1b255d47",
   "metadata": {},
   "outputs": [],
   "source": [
    "len(list)"
   ]
  },
  {
   "cell_type": "code",
   "execution_count": null,
   "id": "7a19689d-cf02-4cef-9eaf-491f1fc1b26c",
   "metadata": {},
   "outputs": [],
   "source": [
    "list\n",
    "songs = []\n",
    "for tag in list:\n",
    "    song = {\n",
    "        'title' : tag.find(\"cite\").text,\n",
    "        'artist' : tag.find(\"em\").text\n",
    "    }\n",
    "    songs.append(song)"
   ]
  },
  {
   "cell_type": "code",
   "execution_count": null,
   "id": "1ebaf441-b725-4614-8589-cf68d665ac54",
   "metadata": {},
   "outputs": [],
   "source": [
    "songs"
   ]
  },
  {
   "cell_type": "markdown",
   "id": "72f8bb64-85ef-4a9b-8857-5c503930a4ff",
   "metadata": {},
   "source": [
    "Lab | Web Scraping Multiple Pages"
   ]
  },
  {
   "cell_type": "code",
   "execution_count": null,
   "id": "e4bfdb7e-0838-4d65-877c-5df57b636439",
   "metadata": {},
   "outputs": [],
   "source": [
    "url = \"https://www.billboard.com/charts/hot-100/\"\n",
    "response = requests.get(url)"
   ]
  },
  {
   "cell_type": "code",
   "execution_count": null,
   "id": "08374c01-a006-4ef8-8c58-7e5a51cab0ea",
   "metadata": {},
   "outputs": [],
   "source": [
    "response.status_code"
   ]
  },
  {
   "cell_type": "code",
   "execution_count": null,
   "id": "cee3e49e-ef7a-43f4-b8d5-4fb90ebbc43c",
   "metadata": {},
   "outputs": [],
   "source": [
    "soup = BeautifulSoup(response.content, \"html.parser\")\n",
    "soup"
   ]
  },
  {
   "cell_type": "code",
   "execution_count": null,
   "id": "a41d0474-3958-405e-9513-d230d8037620",
   "metadata": {},
   "outputs": [],
   "source": [
    "suggest = soup.select(\"#post-1479786 > div.pmc-paywall > div > div > div > div.chart-results-list.\\/\\/.lrv-u-padding-t-150.lrv-u-padding-t-050\\@mobile-max > div.o-chart-results-list-row-container\")\n",
    "print(suggest[99])"
   ]
  },
  {
   "cell_type": "code",
   "execution_count": null,
   "id": "8cbd8069-7c74-47b3-9314-abfbd7dc5c3f",
   "metadata": {},
   "outputs": [],
   "source": [
    "suggest[99].select(\"ul > li:nth-child(4) > ul > li:nth-child(1) > h3\")"
   ]
  },
  {
   "cell_type": "code",
   "execution_count": null,
   "id": "dc230052-a4c2-4d83-8a18-f259bfae048a",
   "metadata": {},
   "outputs": [],
   "source": [
    "songs1 = []\n",
    "for tag in suggest:\n",
    "    song = {\n",
    "        'title' : tag.select(\"ul > li:nth-child(4) > ul > li:nth-child(1) > h3\")[0].text.strip(),\n",
    "        'artist' : tag.select(\"ul > li:nth-child(4) > ul > li:nth-child(1) > span\")[0].text.strip()\n",
    "    }\n",
    "    songs1.append(song)"
   ]
  },
  {
   "cell_type": "code",
   "execution_count": null,
   "id": "1155b5a4-33da-43c2-9943-f8d720c0ab60",
   "metadata": {},
   "outputs": [],
   "source": [
    "print(songs1)"
   ]
  },
  {
   "cell_type": "markdown",
   "id": "2151b4a8-80d3-4816-a1df-c6d61490eba2",
   "metadata": {},
   "source": [
    "Apply the same logic to other \"groups\" of songs: the best songs from a decade or from a country / culture / language / genre."
   ]
  },
  {
   "cell_type": "code",
   "execution_count": null,
   "id": "23df75a7-4e91-49c1-a9fc-b5c6646ecbac",
   "metadata": {},
   "outputs": [],
   "source": [
    "url = \"https://countrycountdownusa.com/top-30/\"\n",
    "response = requests.get(url)"
   ]
  },
  {
   "cell_type": "code",
   "execution_count": null,
   "id": "236d6901-3951-4b05-b504-4605b1307cb3",
   "metadata": {},
   "outputs": [],
   "source": [
    "response.status_code"
   ]
  },
  {
   "cell_type": "code",
   "execution_count": null,
   "id": "13cad144-15c2-4acd-933e-9e102330125b",
   "metadata": {},
   "outputs": [],
   "source": [
    "soup = BeautifulSoup(response.content, \"html.parser\")\n",
    "soup"
   ]
  },
  {
   "cell_type": "code",
   "execution_count": null,
   "id": "8c070a9b-f42b-403f-b033-f8fbb230d473",
   "metadata": {},
   "outputs": [],
   "source": [
    "genre = soup.select(\"#post-main-61 > div > p\")\n",
    "genre = genre[2:-2]"
   ]
  },
  {
   "cell_type": "code",
   "execution_count": null,
   "id": "2d0107a4-c38c-4689-8435-da753525ef14",
   "metadata": {},
   "outputs": [],
   "source": [
    "print(len(genre))"
   ]
  },
  {
   "cell_type": "code",
   "execution_count": null,
   "id": "c3bfaa49-011d-4d3f-9b64-1d527e324cad",
   "metadata": {},
   "outputs": [],
   "source": [
    "print(genre)"
   ]
  },
  {
   "cell_type": "code",
   "execution_count": null,
   "id": "0c779a54-2b37-41ba-95fe-dadf4b0ee98c",
   "metadata": {},
   "outputs": [],
   "source": [
    "bygenre = []\n",
    "for tag in genre:\n",
    "    song = {\n",
    "        'title+artist' : tag.text.strip()\n",
    "    }\n",
    "    bygenre.append(song)"
   ]
  },
  {
   "cell_type": "code",
   "execution_count": null,
   "id": "8e4812cd-a8e5-46b6-801f-385ee363e1b0",
   "metadata": {},
   "outputs": [],
   "source": [
    "print(bygenre)"
   ]
  }
 ],
 "metadata": {
  "kernelspec": {
   "display_name": "Python 3 (ipykernel)",
   "language": "python",
   "name": "python3"
  },
  "language_info": {
   "codemirror_mode": {
    "name": "ipython",
    "version": 3
   },
   "file_extension": ".py",
   "mimetype": "text/x-python",
   "name": "python",
   "nbconvert_exporter": "python",
   "pygments_lexer": "ipython3",
   "version": "3.11.7"
  }
 },
 "nbformat": 4,
 "nbformat_minor": 5
}
